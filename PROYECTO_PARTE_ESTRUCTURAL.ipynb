{
  "nbformat": 4,
  "nbformat_minor": 0,
  "metadata": {
    "colab": {
      "name": "PROYECTO_PARTE_ESTRUCTURAL.ipynb",
      "provenance": [],
      "authorship_tag": "ABX9TyNmYjtxO3MpUm4bDDwMtimR",
      "include_colab_link": true
    },
    "kernelspec": {
      "name": "python3",
      "display_name": "Python 3"
    }
  },
  "cells": [
    {
      "cell_type": "markdown",
      "metadata": {
        "id": "view-in-github",
        "colab_type": "text"
      },
      "source": [
        "<a href=\"https://colab.research.google.com/github/985emily/WORD_CLOUD_PROYECT/blob/master/PROYECTO_PARTE_ESTRUCTURAL.ipynb\" target=\"_parent\"><img src=\"https://colab.research.google.com/assets/colab-badge.svg\" alt=\"Open In Colab\"/></a>"
      ]
    },
    {
      "cell_type": "markdown",
      "metadata": {
        "id": "fs-opk9CZ6ns",
        "colab_type": "text"
      },
      "source": [
        "CREACION DE LA PARTE ESTRUCTURAL DEL PROYECTO\n",
        "\n",
        "\n",
        "1.   INGRESO DE USUARIO\n",
        "2.   BÚSQUEDA Y CREACIÓN DEL LINK DE LA PÁGINA DONDE SE REALIZARA LA PARTE PRINCIPAL DEL PROYECTO\n",
        "3.   BÚSQUEDA DE DATOS DEL USUARIO\n",
        "4.   BÚSQUEDA E INGRESO DE LAS ETIQUETAS DEL USUARIO\n",
        "\n",
        "\n",
        "\n"
      ]
    },
    {
      "cell_type": "code",
      "metadata": {
        "id": "syVOdYbQXTWg",
        "colab_type": "code",
        "colab": {}
      },
      "source": [
        "from bs4 import BeautifulSoup\n",
        "import requests\n",
        "import pandas as pd\n",
        "\n",
        "print(\"Ingrese un usuario: \")\n",
        "usuario = input()\n",
        "print(\"NUM DE USUARIO:\" +usuario)\n",
        "page = requests.get(\"https://es.stackoverflow.com/users/\"+usuario)\n",
        "soup = BeautifulSoup(page.content,'html.parser')\n",
        "\n",
        "#obtener nombre usuario\n",
        "Nusuario = soup.find('div',class_=\"grid--cell fw-bold\").text\n",
        "print(\"NOMBRE: \"+Nusuario)\n",
        "\n",
        "page = requests.get(\"https://es.stackoverflow.com/users/\"+usuario+\"/\"+Nusuario+\"?tab=tags\")\n",
        "soup = BeautifulSoup(page.content,'html.parser')\n",
        " \n",
        "#Tags\n",
        "tag = soup.find_all('a', class_='post-tag')\n",
        " \n",
        "tags = list()\n",
        "\n",
        "for i in tag:\n",
        "    tags.append(i.text)\n",
        "    n = len(tags)\n",
        "print(tags [1:num])\n",
        "print (n)\n",
        "\n",
        "#Ntags\n",
        "Ntag = soup.find_all('div', class_='answer-votes')\n",
        " \n",
        "Ntags = list()\n",
        "\n",
        "for i in Ntag:\n",
        "    Ntags.append(i.text)\n",
        "    num = len(Ntags)\n",
        "print(Ntags[0:num])\n",
        "print (num)\n",
        "   "
      ],
      "execution_count": null,
      "outputs": []
    }
  ]
}