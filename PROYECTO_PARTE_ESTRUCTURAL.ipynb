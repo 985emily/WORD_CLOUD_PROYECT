{
  "nbformat": 4,
  "nbformat_minor": 0,
  "metadata": {
    "colab": {
      "name": "PROYECTO_PARTE_ESTRUCTURAL.ipynb",
      "provenance": [],
      "authorship_tag": "ABX9TyNDKpRwk8RTlbRxdgEtPVgN",
      "include_colab_link": true
    },
    "kernelspec": {
      "name": "python3",
      "display_name": "Python 3"
    }
  },
  "cells": [
    {
      "cell_type": "markdown",
      "metadata": {
        "id": "view-in-github",
        "colab_type": "text"
      },
      "source": [
        "<a href=\"https://colab.research.google.com/github/985emily/WORD_CLOUD_PROYECT/blob/master/PROYECTO_PARTE_ESTRUCTURAL.ipynb\" target=\"_parent\"><img src=\"https://colab.research.google.com/assets/colab-badge.svg\" alt=\"Open In Colab\"/></a>"
      ]
    },
    {
      "cell_type": "markdown",
      "metadata": {
        "id": "63PO6arzXkf1",
        "colab_type": "text"
      },
      "source": [
        "CAMBIOS PARA LA RECOLECCION DE TODOS LOS DATOS DE LA PAGÍNAS\n",
        "* BUSQUEDA DE LAS PAGÍNAS DE ETIQUETAS DEL USUARIO\n",
        "* BUSQUEDA DE TODAS ETIQUETAS DEL USUARIO\n",
        "\n",
        "\n",
        "\n",
        "\n"
      ]
    },
    {
      "cell_type": "code",
      "metadata": {
        "id": "6R5Xybluc7EN",
        "colab_type": "code",
        "colab": {
          "base_uri": "https://localhost:8080/",
          "height": 677
        },
        "outputId": "2962ffe2-0936-4bcc-9542-c0498ce0b975"
      },
      "source": [
        "import requests\n",
        "from bs4 import BeautifulSoup\n",
        "\n",
        "from bs4 import BeautifulSoup\n",
        "import requests\n",
        "import pandas as pd\n",
        "import numpy as np\n",
        "\n",
        "print(\"Ingrese un usuario: \")\n",
        "usuario = input()\n",
        "print(\"NUM DE USUARIO:\" +usuario)\n",
        "page = requests.get(\"https://es.stackoverflow.com/users/\"+usuario)\n",
        "soup = BeautifulSoup(page.content,'html.parser')\n",
        "\n",
        "#obtener nombre usuario\n",
        "Nusuario = soup.find('div',class_=\"grid--cell fw-bold\").text\n",
        "print(\"NOMBRE: \"+Nusuario)\n",
        "\n",
        "\n",
        "url = \"https://es.stackoverflow.com/users/\"+usuario+\"/\"+Nusuario+\"?tab=tags\" + \"&sort=votes&page=\"\n",
        "\n",
        "\n",
        "#conseguir el numero de rango\n",
        "\n",
        "for page in range(16):\n",
        "\n",
        "   # print('---', page, '---')\n",
        "\n",
        "    r = requests.get(url + str(page))\n",
        "\n",
        "    soup = BeautifulSoup(r.content, \"html.parser\")\n",
        "\n",
        "    \n",
        "     #Tags\n",
        "    tag = soup.find_all('a', class_='post-tag')\n",
        "    tags = list()\n",
        "    for i in tag:\n",
        "          tags.append(i.text)\n",
        "          n = len(tags)\n",
        "    print(tags[0:n])\n",
        "    #Ntags\n",
        "    Ntag = soup.find_all('div', class_='answer-votes')\n",
        "    Ntags = list()\n",
        "    for i in Ntag:\n",
        "          Ntags.append(i.text)\n",
        "          num = len(Ntags)\n",
        "    print(Ntags[0:num])\n",
        "   \n",
        "\n",
        "    "
      ],
      "execution_count": null,
      "outputs": [
        {
          "output_type": "stream",
          "text": [
            "Ingrese un usuario: \n",
            "95\n",
            "NUM DE USUARIO:95\n",
            "NOMBRE: Jorgesys♦\n",
            "['android', 'google-maps', 'kotlin', 'sql-server', 'java', 'array', 'netbeans', 'email', 'android-studio', 'android-asynctask', 'gradle', 'validación', 'android-layout', 'mysql', 'android-imageview', 'listview', 'javascript', 'android-intent', 'c', 'arraylist', 'string', 'sql', 'loops', 'sharedpreferences', 'c#', 'firebase', 'hilos', 'archivo', 'html', 'google-play', 'operador-incremento', 'css', 'regex', 'android-sqlite', 'activity', 'base-de-datos', 'android-fragment', 'git', 'recyclerview', 'api', 'php', 'c++', 'webview', 'botón', 'xml', 'sqlite', 'poo', 'alertdialog', 'json', 'python', 'eclipse', 'layout']\n",
            "['3k', '97', '52', '36', '2k', '96', '47', '36', '1k', '93', '45', '36', '280', '87', '44', '34', '186', '75', '44', '34', '175', '69', '44', '32', '126', '67', '43', '32', '123', '65', '41', '32', '105', '62', '38', '31', '104', '60', '38', '31', '103', '56', '38', '28', '101', '55', '38', '28', '98', '53', '37', '28']\n",
            "['android', 'google-maps', 'kotlin', 'sql-server', 'java', 'array', 'netbeans', 'email', 'android-studio', 'android-asynctask', 'gradle', 'validación', 'android-layout', 'mysql', 'android-imageview', 'listview', 'javascript', 'android-intent', 'c', 'arraylist', 'string', 'sql', 'loops', 'sharedpreferences', 'c#', 'firebase', 'hilos', 'archivo', 'html', 'google-play', 'operador-incremento', 'css', 'regex', 'android-sqlite', 'activity', 'base-de-datos', 'android-fragment', 'git', 'recyclerview', 'api', 'php', 'c++', 'webview', 'botón', 'xml', 'sqlite', 'poo', 'alertdialog', 'json', 'python', 'eclipse', 'layout']\n",
            "['3k', '97', '52', '36', '2k', '96', '47', '36', '1k', '93', '45', '36', '280', '87', '44', '34', '186', '75', '44', '34', '175', '69', '44', '32', '126', '67', '43', '32', '123', '65', '41', '32', '105', '62', '38', '31', '104', '60', '38', '31', '103', '56', '38', '28', '101', '55', '38', '28', '98', '53', '37', '28']\n",
            "['textview', 'edittext', 'build.gradle', 'datetime', 'webview-android', 'gps', 'http', 'ide', 'push-notification', 'android-drawerlayout', 'google-play-console', 'commit', 'visual-studio', 'out-of-memory-error', 'github', 'fragment', 'xamarin', 'comparaciones', 'variables', 'java-swing', 'app', 'url', 'entrada', 'javafx', 'apk', 'date', 'geo-localizacion', 'retrofit', 'ionic', 'angularjs', 'spinner', 'permisos', 'webservice', 'ios', 'split', 'jquery', 'material-design', 'android-permissions', 'android-notifications', 'picasso', 'optimización', 'interfaz-gráfica', 'bucle-for', 'lista', 'bitmap', 'admob', 'servicio', 'excepciones', 'vb.net', 'asp.net', 'windows', 'post']\n",
            "['27', '20', '14', '13', '25', '20', '14', '13', '25', '20', '14', '13', '25', '20', '14', '12', '24', '18', '14', '12', '24', '17', '14', '12', '23', '16', '13', '12', '23', '16', '13', '12', '22', '15', '13', '12', '22', '15', '13', '12', '22', '15', '13', '12', '21', '14', '13', '12', '21', '14', '13', '12']\n",
            "['.net', 'programación-móvil', 'nullpointerexception', 'selenium', 'sms', 'swift', 'android-listview', 'cámara', 'progressbar', 'constructor', 'whatsapp', 'filewriter', 'timestamp', 'while', 'html5', 'object', 'text', 'map', 'java-8', 'apigoogle', 'volley', 'swift2', 'menú', 'adapter', 'xamarin.forms', 'mensajes', 'linux', 'android-toast', 'gson', 'cmd', 'bluetooth', 'spring', 'aplicación-web', 'facebook-api', 'arrayadapter', 'cardview', 'método', 'objeto', 'toolbar', 'r', 'manejo-de-memoria', 'try-catch', 'mongodb', 'ftp', 'windows-forms', 'tsql', 'csv', 'seguridad', 'accesibilidad', 'android-volley', 'actionbar', 'java-ee']\n",
            "['12', '10', '9', '9', '12', '10', '9', '9', '12', '10', '9', '9', '12', '10', '9', '9', '12', '10', '9', '9', '11', '10', '9', '8', '11', '10', '9', '8', '11', '10', '9', '8', '11', '10', '9', '8', '11', '10', '9', '8', '11', '10', '9', '8', '11', '10', '9', '8', '11', '9', '9', '8']\n",
            "['logcat', 'random', 'multitasking', 'android-manifest', 'certificado-ssl', 'google-play-services', 'google-fabric', 'python-2.7', 'android-softkeyboard', 'bash', 'crahslytics', 'datepicker', 'funciones', 'oracle', 'glassfish', 'facebook', 'login', 'postgresql', 'fabric', 'android-service', 'google-api', 'vb6', 'imagen', 'double', 'mediaplayer', 'radiobutton', 'react-native', 'manifest', 'condiciones', 'radiogroup', 'glide', 'paypal', 'gridview', 'descarga', 'pdf', 'phonegap', 'clase', 'query', 'cordova', 'sha1', 'navigationview', 'youtube', 'realm', 'broadcastreceiver', 'sqlite3', 'licencias', 'xcode', 'buenas-prácticas', 'android-context', 'go', 'timer', 'android-glide']\n",
            "['8', '7', '7', '6', '8', '7', '7', '6', '8', '7', '7', '6', '7', '7', '7', '6', '7', '7', '7', '6', '7', '7', '6', '6', '7', '7', '6', '6', '7', '7', '6', '6', '7', '7', '6', '6', '7', '7', '6', '6', '7', '7', '6', '6', '7', '7', '6', '6', '7', '7', '6', '5']\n",
            "['diálogo', 'yield', 'css3', 'conflictos', 'sdk', 'generator', 'mvc', 'office365', 'android-recyclerview', 'qt', 'operador', 'babeljs', 'python-3.x', 'unicode', 'teclado', 'android-auto', 'netbeans-8.2', 'svg', 'constraint-layout', 'unidades-de-medición', 'caracteres', 'mysql-workbench', 'video', 'ruby', 'google-play-games', 'update', 'google-drive', 'git-push', 'iis', 'parsear', 'android-m', 'videojs', 'git-commit', 'hashmap', 'depuración', 'es6', 'clase-abstracta', 'combobox', 'meta-tags', 'scanner', 'div', 'gif', 'alert', 'android-viewpager', 'procesos-en-segundo-plano', 'ordenamiento', 'xhtml2pdf', 'notificaciones', 'richtextbox', 'reactjs', 'google+', 'socket']\n",
            "['5', '5', '4', '4', '5', '5', '4', '4', '5', '5', '4', '4', '5', '5', '4', '4', '5', '4', '4', '4', '5', '4', '4', '4', '5', '4', '4', '4', '5', '4', '4', '4', '5', '4', '4', '4', '5', '4', '4', '3', '5', '4', '4', '3', '5', '4', '4', '3', '5', '4', '4', '3']\n",
            "['compilar', 'intellij', 'almacenamiento', 'ssms', 'google-places', 'https', 'openssl', 'jquery-mobile', 'consola', 'debug', 'sqllite', 'conversión-de-tipos', 'unity3d', 'google-developers-console', 'test-ng', 'androidx', 'adb', 'codeblocks', 'libgdx', 'visual-studio-2017', 'audio', 'youtube-api', 'maven', 'xdebug', 'objective-c', 'jtextfield', 'ajax', 'cast', 'asp.net-mvc-5', 'web', 'asp', 'script', 'visual-studio-2015', 'android-button', 'chromedriver', 'fpdf', 'genymotion', 'selenium-webdriver', '.net-core', 'hibernate', 'localización', 'image-view', 'prototipos', 'jdbc', 'android-widget', 'http-get', 'mac-os', 'instalacion', 'jsp', 'ciclos', 'excel', 'uri']\n",
            "['3', '3', '3', '3', '3', '3', '3', '3', '3', '3', '3', '3', '3', '3', '3', '3', '3', '3', '3', '3', '3', '3', '3', '3', '3', '3', '3', '3', '3', '3', '3', '3', '3', '3', '3', '3', '3', '3', '3', '2', '3', '3', '3', '2', '3', '3', '3', '2', '3', '3', '3', '2']\n",
            "['android-adapter', 'bottombar', 'zip', 'actualizacion', 'navigation', 'scroll', 'oauth2', 'javac', 'onclicklistener', 'apache', 'cache', 'opencsv', 'build', 'django', 'google-calendar', 'localdate', 'class', 'jsonobject', 'reporting', 'date-format', 'servlets', 'pentaho', 'sonido', 'google-analytics', 'float', 'asincronismo', 'google-cloud-platform', 'replaceall', 'shell', 'mapbox', 'aws', 'lambda', 'http-post', 'floating-action-button', 'utf-8', 'elasticsearch', 'if', 'prepared-statements', 'stored-procedure', 'stream', 'keystore', 'searchview', 'datatable', 'jquery-mask-plugin', 'configuración', 'eventos', 'required', 'amazon-web-services', 'rest', 'laravel', 'keyboard', 'android-pie']\n",
            "['2', '2', '2', '2', '2', '2', '2', '2', '2', '2', '2', '2', '2', '2', '2', '2', '2', '2', '2', '2', '2', '2', '2', '2', '2', '2', '2', '2', '2', '2', '2', '2', '2', '2', '2', '2', '2', '2', '2', '2', '2', '2', '2', '2', '2', '2', '2', '2', '2', '2', '2', '2']\n",
            "['game', 'jboss', 'sonar', 'angular', 'matrices', 'razor', 'promesas', 'nfc', 'jasper-reports', 'revisión-de-código', 'sweetalert2', 'interface', 'jspdf', 'material-design-lite', 'android-gridview', 'vistas', 'uwp', 'appinventor', 'xamarin.android', 'avd', 'entity-framework', 'click', 'flutter', 'formato', 'formularios', 'setinterval', 'asp.net-web-api', 'spring-boot', 'navegador-web', 'cpanel', 'itext', 'servidor', 'lenguaje-compilado', 'sweetalert', 'nodejs', 'ssl', 'printf', 'swift4', 'firebase-messaging', 'archivo-de-propiedades', 'popup', 'webforms', 'android-spinner', 'firebase-auth', 'bitbucket', 'datetimepicker', 'customadapter', 'sensor', 'rodbc', 'radio', 'design', 'rutas']\n",
            "['2', '2', '2', '1', '2', '2', '2', '1', '2', '2', '2', '1', '2', '2', '2', '1', '2', '2', '1', '1', '2', '2', '1', '1', '2', '2', '1', '1', '2', '2', '1', '1', '2', '2', '1', '1', '2', '2', '1', '1', '2', '2', '1', '1', '2', '2', '1', '1', '2', '2', '1', '1']\n",
            "['android-navigationview', 'animación', 'makefile', 'drag-and-drop', 'content-provider', 'jsf', 'filesystem', 'audio-manager', 'fileupload', 'primefaces', 'geojson', '.asmx', 'null', 'impresión', 'asynctask', 'chrome', 'integer', 'response', 'dev-c++', 'base64', 'hash', 'color', 'perl', 'projectserver', 'google-adsense', 'osx', 'xsd', 'tipografía', 'packages', 'onbackpressed', 'xml-schema', 'intentservice', 'google-cloud-firestore', 'unix', 'mkdir', 'trigger', 'navigation-drawer', 'wordpress', 'certificado', 'twitter-api', 'iphone', 'curl', 'contenedores', 'xpath', 'svn', 'mapsforge', 'sesiones', 'ggplot2', 'bootstrap', 'c++11', 'depurar', 'plotly']\n",
            "['1', '1', '1', '1', '1', '1', '1', '1', '1', '1', '1', '1', '1', '1', '1', '1', '1', '1', '1', '1', '1', '1', '1', '1', '1', '1', '1', '1', '1', '1', '1', '1', '1', '1', '1', '1', '1', '1', '1', '1', '1', '1', '1', '1', '1', '1', '1', '1', '1', '1', '1', '1']\n",
            "['joomla3', 'callback', 'visual-studio-code', 'diccionarios', 'plsql', 'extjs', 'android-bottom-nav-view', 'foreach', 'jenkins', 'devexpress', 'seo', 'appium', 'directorioactivo', 'firebird', 'else', 'selector', 'dukescript', 'progressdialog', 'qrcode', 'group-by', 'casting', 'game-maker', 'real-time', 'phpword', 'i18n', 'librería', 'spring-mvc', 'android-corrutinas', 'ng-cordova', 'código-de-barras', 'oracle-11g', 'regular', 'android-wear', 'qr', 'google-hoja-de-cálculo', 'expresion', 'algoritmos', 'xampp', 'neodatis', 'buscador', 'internacionalización', 'gmail', 'programación-funcional', 'scroll-view', 'blur', 'consulta-sql', 'signature', 'substring', 'scale', 'tablas', 'slide', 'busqueda']\n",
            "['1', '1', '1', '1', '1', '1', '1', '1', '1', '1', '1', '1', '1', '1', '1', '1', '1', '1', '1', '1', '1', '1', '1', '1', '1', '1', '1', '1', '1', '1', '1', '1', '1', '1', '1', '1', '1', '1', '1', '1', '1', '1', '1', '1', '1', '1', '1', '1', '1', '1', '1', '1']\n",
            "['scala', 'dom', 'rss', 'estructuras-de-datos', 'apache-spark', 'hide', 'google-newsstand-producer', 'vb', 'azure-sql', 'get', 'control-de-versiones', 'canvas', 'img', 'bucles', 'array-bidimensional', 'ms-access', 'azure', 'studio', 'aplicación-movil', 'compilador', 'windows-server', 'soap', 'mariadb', 'slider', 'nativescript', 'batch', 'shell-script', 'kitkat', 'vscode', 'scenebuilder', 'linearlayout', 'baseadapter', 'tooltip', 'select', 'bluej', 'unity', 'displace', 'android-room', 'firma-digital', 'mysqli', 'string-array', 'checkbox', 'jframe', 'bd', 'input-type', 'diseño', 'odbc', 'filereader', 'drawerlayout', 'ubuntu', 'variables-globales', 'app-store']\n",
            "['1', '1', '0', '0', '1', '1', '0', '0', '1', '1', '0', '0', '1', '0', '0', '0', '1', '0', '0', '0', '1', '0', '0', '0', '1', '0', '0', '0', '1', '0', '0', '0', '1', '0', '0', '0', '1', '0', '0', '0', '1', '0', '0', '0', '1', '0', '0', '0', '1', '0', '0', '0']\n",
            "['run-app', 'ip', 'elevation', 'animation', 'hosting', 'docker', 'icons', 'binario', 'windows-server-2012', 'docker-compose', 'netbeans-8.1', 'inyección-sql', 'local-storage', 'guardar', 'parametros', 'passport', 'bundler', 'gwt', 'backend', 'ofuscación', 'ciclo-de-vida', 'polimorfismo', 'xaml', 'axis', 'oauth', 'onactivityresult', 'recursión', 'numberpicker', 'typescript', 'mvp', 'ssrs', 'wav', 'mime', 'itextsharp', 'junit', 'javasound', 'position', 'background', 'android-espresso', 'google-oauth', 'android-viewmodel', 'status-bar', 'undefined', 'mvvm', 'rmi', 'text-color', 'href', 'onesignal', 'importación', 'app-bar-layout', 'visual-studio-2013', 'mysqlconnector']\n",
            "['0', '0', '0', '0', '0', '0', '0', '0', '0', '0', '0', '0', '0', '0', '0', '0', '0', '0', '0', '0', '0', '0', '0', '0', '0', '0', '0', '0', '0', '0', '0', '0', '0', '0', '0', '0', '0', '0', '0', '0', '0', '0', '0', '0', '0', '0', '0', '0', '0', '0', '0', '0']\n",
            "['mercadopago', 'java-stream', 'upload', 'cursor', 'codeigniter', 'vba', 'jar', 'onclick', 'sqldatatypes', 'spring-tool-suite', 'ingenieria-del-software', 'screenshot', 'mac', 'multichoice', 'file', 'phpmyadmin', 'tomcat', 'weblogic', 'crontab', 'arduino', 'webapi', 'registro-windows', 'lenguaje-agnóstico', 'insert', 'jsonarray', 'meteor', 'criptografía', 'uiwebview', 'jira', 'ksoap', 'titanium', 'reflexión', 'gvnix', 'controller', 'diseño-de-clases', 'mysqlconnector.jar', 'spring-roo', 'cmake', 'kivy', 'supportmapfragment', 'asp.net-mvc', 'sax', 'views', 'intellij-idea', 'flask', 'boolean', 'couchbase', 'npm', 'hql', 'parser', 'java-util-scanner', 'dart']\n",
            "['0', '0', '0', '-1', '0', '0', '0', '-1', '0', '0', '0', '-1', '0', '0', '0', '-1', '0', '0', '0', '-1', '0', '0', '0', '-1', '0', '0', '0', '-1', '0', '0', '0', '-1', '0', '0', '0', '-1', '0', '0', '0', '-1', '0', '0', '0', '-1', '0', '0', '0', '-2', '0', '0', '0', '-2']\n",
            "['universal-image-loader', 'terminal', 'virtualbox']\n",
            "['-2', '-2', '-2']\n",
            "[]\n",
            "[]\n"
          ],
          "name": "stdout"
        }
      ]
    }
  ]
}